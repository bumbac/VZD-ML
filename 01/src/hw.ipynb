{
 "cells": [
  {
   "cell_type": "markdown",
   "metadata": {},
   "source": [
    "# Úkol č. 1 - vizualizace dat a web scraping (do 11. října)\n",
    "\n",
    "  * V rámci tohoto úkolu musíte stáhnout dat z webu (tzv. _web scraping_, velmi základní) a následně data zpracovat a vizualizovat.\n",
    "  * Cílem bude stáhnout data ze serveru https://www.psp.cz/sqw/hlasovani.sqw?o=8 týkající hlasování současné poslanecké sněmovny, uložit tato data v tabulkovém formátu a pak vymyslet vizualizace a zobrazení dat, které umožní orientaci v těchto datech a zvýrazní zajímavé informace a zobrazit přehledně časový vývoj různých veličin.\n",
    " \n",
    "> **Úkoly jsou zadány tak, aby Vám daly prostor pro invenci. Vymyslet _jak přesně_ budete úkol řešit, je důležitou součástí zadání a originalita či nápaditost bude také hodnocena!**\n",
    "\n",
    "## Data\n",
    "\n",
    " * Měli byste stáhnout data ze všech hlasování současné poslanecké sněmovny (tj. od voleb v roce 2017) a to až na úroveň jednotlivých poslanců. \n",
    " * Data by měla obsahovat i stručný popis toho, o jaké hlasování šlo.\n",
    "\n",
    "## Pokyny k vypracování\n",
    "\n",
    "**Základní body zadání**, za jejichž (poctivé) vypracování získáte **8 bodů**:\n",
    "  * Strojově stáhněte data a uložte je do vhodného formátu, který se Vám bude dále dobře zpracovávat. \n",
    "  * **I když nemusíte mít sněmovnu rádi, snažte se nezahltit server a mezi požadavky na stránku mějte alespoň vteřinu mezeru.**\n",
    "  * V druhé části Vašeho Jupyter notebooku pracujte se staženými daty v souborech, které jsou výsledkem Vašeho stahovacího skriptu (aby opravující nemusel spouštět stahování z webu).\n",
    "  * S využitím vybraných nástrojů zpracujte data a vymyslete vizualizace a grafy, aby bylo vidět následující:\n",
    "    * Odchody a přeběhnutí poslanců mezi jednotlivými stranami.\n",
    "    * Jakou mají jednotliví poslanci docházku (účast na hlasování) a jak jsou na tom s docházkou strany jako celek.\n",
    "    * Jak často spolu jednotlivé strany hlasují ve shodě a jak často hlasují odlišně.\n",
    "    * Jak jsou poslanci jednotlivých stran jednotní v hlasování (jak často hlasují stejně, kdo jsou největší rebelové).\n",
    "\n",
    "**Další body zadání** za případné další body (můžete si vybrat, maximum bodů za úkol je každopádně 12 bodů):\n",
    "  * Ve vizualizacích a grafech nějak zachyťte časový vývoj (např. jak se mění docházka, shoda mezi stranami atp.).\n",
    "  * Najděte jednotlivé poslance, kteří se nejvíce shodují při svém hlasování či kteří mají co nejpodobnější účast na hlasování.\n",
    "  * Zkuste rozlišit v datech důležitá hlasování a zpracujte vizualizace (také) pro ně.\n",
    "  * Zkuste najít hlasování, kde poslanci hlasovali nejvíce jinak, než obvykle.\n",
    "  \n",
    "## Tipy a triky\n",
    "  * Balíčky iportujte na začátku notebooku (příp. na začátku scrapovací a pak na začátku vizualizační části).\n",
    "  * Využívejte markdown buňky (jako je ta, ve které je tento text) a naspisy, abyste usnadnily orientaci opravující(mu).\n",
    "  * Pečlivě si vybírejte grafy a vizualizace, aby co nejlépe vyjádřily to, co vyjádřit chcete. Doporučuji projít si pro inspiraci alespoň galerie balíčků `matplotlib` a `seaborn`.\n",
    "\n",
    "## Poznámky k odevzdání\n",
    "\n",
    "  * Řiďte se pokyny ze stránky https://courses.fit.cvut.cz/BI-VZD/homeworks/index.html.\n",
    "  * Odevzdejte Jupyter Notebook (příp. doplněn skripty), ale i soubor(y) se staženými daty (ať opravující nemusí stahovat data).\n",
    "  * Opravující Vám může umožnit úkol dodělat či opravit a získat tak další body. První verze je ale důležitá a bude-li odbytá, budete za to penalizováni."
   ]
  },
  {
   "cell_type": "markdown",
   "metadata": {},
   "source": [
    "## Steps:\n",
    "1. Think\n",
    "2. Download data\n",
    "3. Parse data\n",
    "4. Visualize\n",
    "5. ??\n",
    "6. Profit"
   ]
  },
  {
   "cell_type": "markdown",
   "metadata": {},
   "source": [
    "## Download Data - nespúštať ak nechcete downloadovať, všetko je v priečinku ../data ./results.csv"
   ]
  },
  {
   "cell_type": "code",
   "execution_count": 4,
   "metadata": {},
   "outputs": [],
   "source": [
    "# !python3.8 ./main.py"
   ]
  },
  {
   "cell_type": "code",
   "execution_count": 6,
   "metadata": {},
   "outputs": [],
   "source": [
    "import pandas as pd\n",
    "import seaborn as sns\n",
    "import os\n",
    "import numpy as np"
   ]
  },
  {
   "cell_type": "markdown",
   "metadata": {},
   "source": [
    "#### Vlastná classa, ktorá obsahuje jedno hlasovanie z 61 hlasovanie"
   ]
  },
  {
   "cell_type": "code",
   "execution_count": 7,
   "metadata": {},
   "outputs": [],
   "source": [
    "class CProposal:\n",
    "    def __init__(self, meeting_n=None, voting_n=None, url=None, response=None):\n",
    "        if meeting_n is not None:\n",
    "            self.meeting_n = meeting_n\n",
    "            self.voting_n = voting_n\n",
    "            soup = BeautifulSoup(response.text, 'html.parser')\n",
    "            results_tag = soup.find_all('ul', class_='results')\n",
    "            self.overall_df = pd.read_html(response.text)[1]\n",
    "            self.overall_df.columns = [\"Party\", 'N. repr.', 'A', 'N', '0', 'Z', 'M']\n",
    "            self.overall_df = self.overall_df.assign(Meeting=self.meeting_n)\n",
    "            self.overall_df = self.overall_df.assign(Proposal=self.voting_n)\n",
    "            self.df = pd.DataFrame(columns=['Name', 'Party', 'Vote', 'Meeting', 'Proposal'])\n",
    "            for party in results_tag:\n",
    "                party_name = str(party.previous_sibling.contents[0].next)[:-2]\n",
    "                for member in party:\n",
    "                    row = pd.Series(data={'Name': member.contents[2].string, \"Party\": party_name,\n",
    "                                          \"Vote\": member.contents[0].string, 'Meeting': meeting_n,\n",
    "                                          'Proposal': voting_n})\n",
    "                    self.df = self.df.append(row, ignore_index=True)\n",
    "\n",
    "    def load(self, filename):\n",
    "        uscore_pos = str(filename).find('_')\n",
    "        dash_pos = str(filename).find('-')\n",
    "        dot_pos = str(filename).find('.')\n",
    "        pos = 0\n",
    "        if dash_pos < 0:\n",
    "            pos = uscore_pos\n",
    "        else:\n",
    "            pos = dash_pos\n",
    "        self.meeting_n = int(str(filename)[:pos])\n",
    "        self.voting_n = int(str(filename)[pos + 1:dot_pos])\n",
    "        uscorefile = str(self.meeting_n) + '_' + str(self.voting_n) + '.csv'\n",
    "        dashfile = str(self.meeting_n) + '-' + str(self.voting_n) + '.csv'\n",
    "        ban = ''\n",
    "        if dash_pos < 0:\n",
    "            ban = dashfile\n",
    "        else:\n",
    "            ban = uscorefile\n",
    "        self.df = pd.read_csv('../data/' + uscorefile)\n",
    "        self.overall_df = pd.read_csv('../data/' + dashfile)\n",
    "        return ban\n",
    "\n",
    "    def save(self):\n",
    "        print('Saving: m: ' + str(self.meeting_n) + ' p: ' + str(self.voting_n))\n",
    "        members_file = '../data/' + str(self.meeting_n) + '_' + str(self.voting_n) + '.csv'\n",
    "        party_file = '../data/' + str(self.meeting_n) + '-' + str(self.voting_n) + '.csv'\n",
    "        self.df.to_csv(members_file, index=False)\n",
    "        self.overall_df.to_csv(party_file, index=False)"
   ]
  },
  {
   "cell_type": "markdown",
   "metadata": {},
   "source": [
    "## Load from files"
   ]
  },
  {
   "cell_type": "code",
   "execution_count": 8,
   "metadata": {},
   "outputs": [],
   "source": [
    "import glob"
   ]
  },
  {
   "cell_type": "code",
   "execution_count": 9,
   "metadata": {},
   "outputs": [],
   "source": [
    "df = pd.concat(map(pd.read_csv, glob.glob('../data/*_*.csv')), ignore_index=True)"
   ]
  },
  {
   "cell_type": "code",
   "execution_count": 16,
   "metadata": {},
   "outputs": [],
   "source": [
    "df_overall = pd.concat(map(pd.read_csv, glob.glob('../data/*-*.csv')), ignore_index=True)"
   ]
  },
  {
   "cell_type": "code",
   "execution_count": 33,
   "metadata": {},
   "outputs": [
    {
     "data": {
      "text/plain": [
       "array([1, 2, 3, 4, 5, 6, 7, 8, 9, 10, 11, 12, 13, 14, 15, 16, 17, 18, 19,\n",
       "       20, 21, 22, 23, 24, 25, 26, 27, 28, 29, 30, 31, 32, 33, 34, 35, 36,\n",
       "       37, 38, 39, 40, 41, 42, 43, 44, 45, 46, 47, 48, 49, 50, 51, 52, 53,\n",
       "       54, 55, 56, 57, 58, 59], dtype=object)"
      ]
     },
     "metadata": {},
     "output_type": "display_data"
    },
    {
     "data": {
      "text/plain": [
       "array(['ANO', 'ODS', 'Piráti', 'SPD', 'ČSSD', 'KSČM', 'KDU-ČSL', 'TOP09',\n",
       "       'STAN', 'Celkem', 'Nezařaz'], dtype=object)"
      ]
     },
     "metadata": {},
     "output_type": "display_data"
    }
   ],
   "source": [
    "a = df.Meeting.unique()\n",
    "a.sort(axis=0)\n",
    "display(a)\n",
    "display(df_overall.Party.unique())"
   ]
  },
  {
   "cell_type": "code",
   "execution_count": 165,
   "metadata": {},
   "outputs": [
    {
     "data": {
      "text/html": [
       "<div>\n",
       "<style scoped>\n",
       "    .dataframe tbody tr th:only-of-type {\n",
       "        vertical-align: middle;\n",
       "    }\n",
       "\n",
       "    .dataframe tbody tr th {\n",
       "        vertical-align: top;\n",
       "    }\n",
       "\n",
       "    .dataframe thead th {\n",
       "        text-align: right;\n",
       "    }\n",
       "</style>\n",
       "<table border=\"1\" class=\"dataframe\">\n",
       "  <thead>\n",
       "    <tr style=\"text-align: right;\">\n",
       "      <th></th>\n",
       "      <th>Party</th>\n",
       "      <th>N. repr.</th>\n",
       "      <th>A</th>\n",
       "      <th>N</th>\n",
       "      <th>0</th>\n",
       "      <th>Z</th>\n",
       "      <th>M</th>\n",
       "      <th>Meeting</th>\n",
       "      <th>Proposal</th>\n",
       "    </tr>\n",
       "  </thead>\n",
       "  <tbody>\n",
       "    <tr>\n",
       "      <th>0</th>\n",
       "      <td>ANO</td>\n",
       "      <td>78</td>\n",
       "      <td>0</td>\n",
       "      <td>39</td>\n",
       "      <td>10</td>\n",
       "      <td>12</td>\n",
       "      <td>17</td>\n",
       "      <td>6</td>\n",
       "      <td>22</td>\n",
       "    </tr>\n",
       "    <tr>\n",
       "      <th>1</th>\n",
       "      <td>ODS</td>\n",
       "      <td>25</td>\n",
       "      <td>15</td>\n",
       "      <td>0</td>\n",
       "      <td>7</td>\n",
       "      <td>0</td>\n",
       "      <td>3</td>\n",
       "      <td>6</td>\n",
       "      <td>22</td>\n",
       "    </tr>\n",
       "    <tr>\n",
       "      <th>2</th>\n",
       "      <td>Piráti</td>\n",
       "      <td>22</td>\n",
       "      <td>19</td>\n",
       "      <td>0</td>\n",
       "      <td>1</td>\n",
       "      <td>0</td>\n",
       "      <td>2</td>\n",
       "      <td>6</td>\n",
       "      <td>22</td>\n",
       "    </tr>\n",
       "    <tr>\n",
       "      <th>3</th>\n",
       "      <td>SPD</td>\n",
       "      <td>22</td>\n",
       "      <td>12</td>\n",
       "      <td>0</td>\n",
       "      <td>5</td>\n",
       "      <td>0</td>\n",
       "      <td>5</td>\n",
       "      <td>6</td>\n",
       "      <td>22</td>\n",
       "    </tr>\n",
       "    <tr>\n",
       "      <th>4</th>\n",
       "      <td>ČSSD</td>\n",
       "      <td>15</td>\n",
       "      <td>2</td>\n",
       "      <td>0</td>\n",
       "      <td>3</td>\n",
       "      <td>1</td>\n",
       "      <td>9</td>\n",
       "      <td>6</td>\n",
       "      <td>22</td>\n",
       "    </tr>\n",
       "    <tr>\n",
       "      <th>5</th>\n",
       "      <td>KSČM</td>\n",
       "      <td>15</td>\n",
       "      <td>4</td>\n",
       "      <td>0</td>\n",
       "      <td>4</td>\n",
       "      <td>6</td>\n",
       "      <td>1</td>\n",
       "      <td>6</td>\n",
       "      <td>22</td>\n",
       "    </tr>\n",
       "    <tr>\n",
       "      <th>6</th>\n",
       "      <td>KDU-ČSL</td>\n",
       "      <td>10</td>\n",
       "      <td>0</td>\n",
       "      <td>1</td>\n",
       "      <td>6</td>\n",
       "      <td>1</td>\n",
       "      <td>2</td>\n",
       "      <td>6</td>\n",
       "      <td>22</td>\n",
       "    </tr>\n",
       "    <tr>\n",
       "      <th>7</th>\n",
       "      <td>TOP09</td>\n",
       "      <td>7</td>\n",
       "      <td>3</td>\n",
       "      <td>1</td>\n",
       "      <td>3</td>\n",
       "      <td>0</td>\n",
       "      <td>0</td>\n",
       "      <td>6</td>\n",
       "      <td>22</td>\n",
       "    </tr>\n",
       "    <tr>\n",
       "      <th>8</th>\n",
       "      <td>STAN</td>\n",
       "      <td>6</td>\n",
       "      <td>1</td>\n",
       "      <td>0</td>\n",
       "      <td>2</td>\n",
       "      <td>1</td>\n",
       "      <td>2</td>\n",
       "      <td>6</td>\n",
       "      <td>22</td>\n",
       "    </tr>\n",
       "    <tr>\n",
       "      <th>9</th>\n",
       "      <td>Celkem</td>\n",
       "      <td>200</td>\n",
       "      <td>56</td>\n",
       "      <td>41</td>\n",
       "      <td>41</td>\n",
       "      <td>21</td>\n",
       "      <td>41</td>\n",
       "      <td>6</td>\n",
       "      <td>22</td>\n",
       "    </tr>\n",
       "  </tbody>\n",
       "</table>\n",
       "</div>"
      ],
      "text/plain": [
       "     Party N. repr.   A   N   0   Z   M Meeting Proposal\n",
       "0      ANO       78   0  39  10  12  17       6       22\n",
       "1      ODS       25  15   0   7   0   3       6       22\n",
       "2   Piráti       22  19   0   1   0   2       6       22\n",
       "3      SPD       22  12   0   5   0   5       6       22\n",
       "4     ČSSD       15   2   0   3   1   9       6       22\n",
       "5     KSČM       15   4   0   4   6   1       6       22\n",
       "6  KDU-ČSL       10   0   1   6   1   2       6       22\n",
       "7    TOP09        7   3   1   3   0   0       6       22\n",
       "8     STAN        6   1   0   2   1   2       6       22\n",
       "9   Celkem      200  56  41  41  21  41       6       22"
      ]
     },
     "execution_count": 165,
     "metadata": {},
     "output_type": "execute_result"
    }
   ],
   "source": [
    "df_overall.head(10)"
   ]
  },
  {
   "cell_type": "markdown",
   "metadata": {},
   "source": [
    "### Prebehnutia v stranach"
   ]
  },
  {
   "cell_type": "code",
   "execution_count": 160,
   "metadata": {
    "scrolled": true
   },
   "outputs": [],
   "source": [
    "change = {}\n",
    "for representative in df['Name'].unique():\n",
    "    repr = (df[df['Name'] == representative])['Party'].unique().tolist()\n",
    "    if len(repr) > 1:\n",
    "        change[representative] = repr\n",
    "change_df = pd.DataFrame(columns={'Name', 'From', 'To'})\n",
    "for representative in change:\n",
    "    match = df[(df['Meeting'] == 1) & (df['Proposal'] == 1) & (df['Name'] == representative)]\n",
    "    _from = match.Party.iloc[0]\n",
    "    change[representative].remove(_from)\n",
    "    _to = change[representative]\n",
    "    change_df = change_df.append({'Name':representative, \"From\": _from, \"To\": _to }, ignore_index=True)"
   ]
  },
  {
   "cell_type": "code",
   "execution_count": 163,
   "metadata": {},
   "outputs": [
    {
     "data": {
      "text/html": [
       "<div>\n",
       "<style scoped>\n",
       "    .dataframe tbody tr th:only-of-type {\n",
       "        vertical-align: middle;\n",
       "    }\n",
       "\n",
       "    .dataframe tbody tr th {\n",
       "        vertical-align: top;\n",
       "    }\n",
       "\n",
       "    .dataframe thead th {\n",
       "        text-align: right;\n",
       "    }\n",
       "</style>\n",
       "<table border=\"1\" class=\"dataframe\">\n",
       "  <thead>\n",
       "    <tr style=\"text-align: right;\">\n",
       "      <th></th>\n",
       "      <th>Name</th>\n",
       "      <th>From</th>\n",
       "      <th>To</th>\n",
       "    </tr>\n",
       "  </thead>\n",
       "  <tbody>\n",
       "    <tr>\n",
       "      <th>0</th>\n",
       "      <td>Tereza Hyťhová</td>\n",
       "      <td>SPD</td>\n",
       "      <td>[Nezařaz]</td>\n",
       "    </tr>\n",
       "    <tr>\n",
       "      <th>1</th>\n",
       "      <td>Marian Bojko</td>\n",
       "      <td>SPD</td>\n",
       "      <td>[Nezařaz]</td>\n",
       "    </tr>\n",
       "    <tr>\n",
       "      <th>2</th>\n",
       "      <td>Jaroslav Foldyna</td>\n",
       "      <td>ČSSD</td>\n",
       "      <td>[Nezařaz, SPD]</td>\n",
       "    </tr>\n",
       "    <tr>\n",
       "      <th>3</th>\n",
       "      <td>Václav Klaus</td>\n",
       "      <td>ODS</td>\n",
       "      <td>[Nezařaz]</td>\n",
       "    </tr>\n",
       "    <tr>\n",
       "      <th>4</th>\n",
       "      <td>Zuzana Majerová Zahradníková</td>\n",
       "      <td>ODS</td>\n",
       "      <td>[Nezařaz]</td>\n",
       "    </tr>\n",
       "    <tr>\n",
       "      <th>5</th>\n",
       "      <td>Ivana Nevludová</td>\n",
       "      <td>SPD</td>\n",
       "      <td>[Nezařaz]</td>\n",
       "    </tr>\n",
       "    <tr>\n",
       "      <th>6</th>\n",
       "      <td>Lubomír Volný</td>\n",
       "      <td>SPD</td>\n",
       "      <td>[Nezařaz]</td>\n",
       "    </tr>\n",
       "  </tbody>\n",
       "</table>\n",
       "</div>"
      ],
      "text/plain": [
       "                           Name  From              To\n",
       "0                Tereza Hyťhová   SPD       [Nezařaz]\n",
       "1                  Marian Bojko   SPD       [Nezařaz]\n",
       "2              Jaroslav Foldyna  ČSSD  [Nezařaz, SPD]\n",
       "3                  Václav Klaus   ODS       [Nezařaz]\n",
       "4  Zuzana Majerová Zahradníková   ODS       [Nezařaz]\n",
       "5               Ivana Nevludová   SPD       [Nezařaz]\n",
       "6                 Lubomír Volný   SPD       [Nezařaz]"
      ]
     },
     "metadata": {},
     "output_type": "display_data"
    },
    {
     "data": {
      "text/html": [
       "<div>\n",
       "<style scoped>\n",
       "    .dataframe tbody tr th:only-of-type {\n",
       "        vertical-align: middle;\n",
       "    }\n",
       "\n",
       "    .dataframe tbody tr th {\n",
       "        vertical-align: top;\n",
       "    }\n",
       "\n",
       "    .dataframe thead th {\n",
       "        text-align: right;\n",
       "    }\n",
       "</style>\n",
       "<table border=\"1\" class=\"dataframe\">\n",
       "  <thead>\n",
       "    <tr style=\"text-align: right;\">\n",
       "      <th></th>\n",
       "      <th>0</th>\n",
       "    </tr>\n",
       "    <tr>\n",
       "      <th>From</th>\n",
       "      <th></th>\n",
       "    </tr>\n",
       "  </thead>\n",
       "  <tbody>\n",
       "    <tr>\n",
       "      <th>ODS</th>\n",
       "      <td>2</td>\n",
       "    </tr>\n",
       "    <tr>\n",
       "      <th>SPD</th>\n",
       "      <td>4</td>\n",
       "    </tr>\n",
       "    <tr>\n",
       "      <th>ČSSD</th>\n",
       "      <td>1</td>\n",
       "    </tr>\n",
       "  </tbody>\n",
       "</table>\n",
       "</div>"
      ],
      "text/plain": [
       "      0\n",
       "From   \n",
       "ODS   2\n",
       "SPD   4\n",
       "ČSSD  1"
      ]
     },
     "metadata": {},
     "output_type": "display_data"
    },
    {
     "data": {
      "text/plain": [
       "<AxesSubplot:xlabel='From'>"
      ]
     },
     "execution_count": 163,
     "metadata": {},
     "output_type": "execute_result"
    },
    {
     "data": {
      "image/png": "[encoded data removed]",
      "text/plain": [
       "<Figure size 432x288 with 1 Axes>"
      ]
     },
     "metadata": {
      "needs_background": "light"
     },
     "output_type": "display_data"
    }
   ],
   "source": [
    "display(change_df)\n",
    "dd = pd.DataFrame(change_df.groupby('From').size())\n",
    "display(dd)\n",
    "dd.plot(kind='bar')"
   ]
  },
  {
   "cell_type": "markdown",
   "metadata": {},
   "source": [
    "### Dochádzka poslancov"
   ]
  },
  {
   "cell_type": "code",
   "execution_count": 34,
   "metadata": {},
   "outputs": [],
   "source": [
    "representatives_attendance = {}\n",
    "total = 0\n",
    "for representative in df['Name'].unique():\n",
    "    votings = df.loc[df['Name'] == representative]\n",
    "    votings = votings.reset_index()\n",
    "    c = votings.groupby(['Vote']).size()\n",
    "    representatives_attendance[representative] = c\n",
    "    total = 0\n",
    "    for vote in c:\n",
    "        total += vote\n",
    "    representatives_attendance[representative]['Total'] = total"
   ]
  },
  {
   "cell_type": "code",
   "execution_count": 35,
   "metadata": {},
   "outputs": [
    {
     "ename": "NameError",
     "evalue": "name 'plt' is not defined",
     "output_type": "error",
     "traceback": [
      "\u001b[0;31m---------------------------------------------------------------------------\u001b[0m",
      "\u001b[0;31mNameError\u001b[0m                                 Traceback (most recent call last)",
      "\u001b[0;32m<ipython-input-35-394c225e5a22>\u001b[0m in \u001b[0;36m<module>\u001b[0;34m\u001b[0m\n\u001b[1;32m      3\u001b[0m \u001b[0mattendance_df\u001b[0m\u001b[0;34m[\u001b[0m\u001b[0;34m'Dochádzka'\u001b[0m\u001b[0;34m]\u001b[0m \u001b[0;34m=\u001b[0m \u001b[0;34m(\u001b[0m\u001b[0mattendance_df\u001b[0m\u001b[0;34m[\u001b[0m\u001b[0;34m'A'\u001b[0m\u001b[0;34m]\u001b[0m \u001b[0;34m+\u001b[0m \u001b[0mattendance_df\u001b[0m\u001b[0;34m[\u001b[0m\u001b[0;34m'N'\u001b[0m\u001b[0;34m]\u001b[0m \u001b[0;34m+\u001b[0m \u001b[0mattendance_df\u001b[0m\u001b[0;34m[\u001b[0m\u001b[0;34m'Z'\u001b[0m\u001b[0;34m]\u001b[0m\u001b[0;34m)\u001b[0m \u001b[0;34m/\u001b[0m \u001b[0mattendance_df\u001b[0m\u001b[0;34m[\u001b[0m\u001b[0;34m'Total'\u001b[0m\u001b[0;34m]\u001b[0m \u001b[0;34m*\u001b[0m \u001b[0;36m100\u001b[0m\u001b[0;34m\u001b[0m\u001b[0;34m\u001b[0m\u001b[0m\n\u001b[1;32m      4\u001b[0m \u001b[0mattendance_df\u001b[0m \u001b[0;34m=\u001b[0m \u001b[0mattendance_df\u001b[0m\u001b[0;34m.\u001b[0m\u001b[0msort_values\u001b[0m\u001b[0;34m(\u001b[0m\u001b[0mby\u001b[0m\u001b[0;34m=\u001b[0m\u001b[0;34m[\u001b[0m\u001b[0;34m'Dochádzka'\u001b[0m\u001b[0;34m]\u001b[0m\u001b[0;34m,\u001b[0m \u001b[0mascending\u001b[0m\u001b[0;34m=\u001b[0m\u001b[0;32mFalse\u001b[0m\u001b[0;34m)\u001b[0m\u001b[0;34m\u001b[0m\u001b[0;34m\u001b[0m\u001b[0m\n\u001b[0;32m----> 5\u001b[0;31m \u001b[0mplt\u001b[0m\u001b[0;34m.\u001b[0m\u001b[0mfigure\u001b[0m\u001b[0;34m(\u001b[0m\u001b[0mfigsize\u001b[0m\u001b[0;34m=\u001b[0m\u001b[0;34m(\u001b[0m\u001b[0;36m10\u001b[0m\u001b[0;34m,\u001b[0m\u001b[0;36m10\u001b[0m\u001b[0;34m)\u001b[0m\u001b[0;34m)\u001b[0m\u001b[0;34m\u001b[0m\u001b[0;34m\u001b[0m\u001b[0m\n\u001b[0m\u001b[1;32m      6\u001b[0m \u001b[0mplt\u001b[0m\u001b[0;34m.\u001b[0m\u001b[0mtitle\u001b[0m\u001b[0;34m(\u001b[0m\u001b[0;34m'Všetci poslanci'\u001b[0m\u001b[0;34m)\u001b[0m\u001b[0;34m\u001b[0m\u001b[0;34m\u001b[0m\u001b[0m\n\u001b[1;32m      7\u001b[0m \u001b[0mattendance_df\u001b[0m\u001b[0;34m[\u001b[0m\u001b[0;34m'Dochádzka'\u001b[0m\u001b[0;34m]\u001b[0m\u001b[0;34m.\u001b[0m\u001b[0mplot\u001b[0m\u001b[0;34m.\u001b[0m\u001b[0mbar\u001b[0m\u001b[0;34m(\u001b[0m\u001b[0;34m)\u001b[0m\u001b[0;34m\u001b[0m\u001b[0;34m\u001b[0m\u001b[0m\n",
      "\u001b[0;31mNameError\u001b[0m: name 'plt' is not defined"
     ]
    }
   ],
   "source": [
    "   \n",
    "attendance_df = pd.DataFrame(representatives_attendance).T\n",
    "attendance_df = attendance_df.fillna(0)\n",
    "attendance_df['Dochádzka'] = (attendance_df['A'] + attendance_df['N'] + attendance_df['Z']) / attendance_df['Total'] * 100\n",
    "attendance_df = attendance_df.sort_values(by=['Dochádzka'], ascending=False)\n",
    "plt.figure(figsize=(10,10))\n",
    "plt.title('Všetci poslanci')\n",
    "attendance_df['Dochádzka'].plot.bar()\n",
    "plt.figure(figsize=(10,10))\n",
    "plt.subplot(221)\n",
    "plt.title('Najlepšie dochádzky')\n",
    "attendance_df.head(20)['Dochádzka'].plot.bar()\n",
    "plt.subplot(222)\n",
    "plt.title('Najhoršie dochádzky')\n",
    "attendance_df.tail(20)['Dochádzka'].plot.bar()\n",
    "print(\"Najlepšia dochádzka:\")\n",
    "display(attendance_df.head(5))\n",
    "print('\\n')\n",
    "print(\"Najhoršia dochádza:\")\n",
    "display(attendance_df.tail(5))"
   ]
  },
  {
   "cell_type": "markdown",
   "metadata": {},
   "source": [
    "## Dochádzka podľa strán"
   ]
  },
  {
   "cell_type": "code",
   "execution_count": null,
   "metadata": {},
   "outputs": [],
   "source": [
    "party_total = {}\n",
    "party_att = {}\n",
    "party_perc = {}\n",
    "party_data = pd.DataFrame(columns={'Party', \"Total\", \"Attended\", 'Percent'})\n",
    "for party in df_overall.Party.unique():\n",
    "    total_meeting = 0\n",
    "    total_attend = 0\n",
    "    for meeting in df_overall.Meeting.unique():\n",
    "        for proposal in df_overall[df_overall.Meeting == meeting].Proposal.unique():\n",
    "            party_att = df_overall[ (df_overall['Party'] == party) & (df_overall['Proposal'] == proposal) \n",
    "                              & (df_overall['Meeting'] == meeting)]\n",
    "            total_meeting += party_att['A'].iloc[0]\n",
    "            total_meeting += party_att['N'].iloc[0]\n",
    "            total_meeting += party_att['Z'].iloc[0]\n",
    "            total_meeting += party_att['M'].iloc[0]\n",
    "            total_meeting += party_att['0'].iloc[0]\n",
    "            total_attend += party_att['A'].iloc[0]\n",
    "            total_attend += party_att['N'].iloc[0]\n",
    "            total_attend += party_att['Z'].iloc[0]\n",
    "    party_data = party_data.append({\"Party\": party, \"Total\": total_meeting, 'Attended': total_attend, 'Percent': total_attend/total_meeting*100}, ignore_index=True)\n",
    "display(party_data)"
   ]
  },
  {
   "cell_type": "code",
   "execution_count": 54,
   "metadata": {},
   "outputs": [
    {
     "data": {
      "image/png": "[encoded data removed]",
      "text/plain": [
       "<Figure size 432x288 with 1 Axes>"
      ]
     },
     "metadata": {
      "needs_background": "light"
     },
     "output_type": "display_data"
    }
   ],
   "source": [
    "party_data.plot(x='Party', y='Percent', kind='bar')\n",
    "plt.show()"
   ]
  },
  {
   "cell_type": "markdown",
   "metadata": {},
   "source": [
    "### Zhoda v hlasovani medzi stranami"
   ]
  },
  {
   "cell_type": "code",
   "execution_count": null,
   "metadata": {},
   "outputs": [],
   "source": [
    "for party in party_data.Party:\n",
    "    print(party)"
   ]
  },
  {
   "cell_type": "code",
   "execution_count": null,
   "metadata": {},
   "outputs": [],
   "source": []
  }
 ],
 "metadata": {
  "kernelspec": {
   "display_name": "Python 3",
   "language": "python",
   "name": "python3"
  },
  "language_info": {
   "codemirror_mode": {
    "name": "ipython",
    "version": 3
   },
   "file_extension": ".py",
   "mimetype": "text/x-python",
   "name": "python",
   "nbconvert_exporter": "python",
   "pygments_lexer": "ipython3",
   "version": "3.8.3"
  }
 },
 "nbformat": 4,
 "nbformat_minor": 4
}
