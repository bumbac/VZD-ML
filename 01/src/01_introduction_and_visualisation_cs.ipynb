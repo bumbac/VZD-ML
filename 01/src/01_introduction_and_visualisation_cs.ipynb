{
 "cells": [
  {
   "cell_type": "markdown",
   "metadata": {},
   "source": [
    "# Cvičení 01: Úvod a vizualizace"
   ]
  },
  {
   "cell_type": "markdown",
   "metadata": {},
   "source": [
    "## Import základních balíčků"
   ]
  },
  {
   "cell_type": "markdown",
   "metadata": {},
   "source": [
    "### NumPy \n",
    "  * Balíček pro rychlé „vědecké“ výpočty (zejména lineární algebra a náhodná čísla).\n",
    "  * Většinou se jedná jen o interface k vysoce optimalizovaným C/C++/Fortran knihovnám.\n",
    "  * http://www.numpy.org/\n",
    "\n",
    "### pandas\n",
    "  * Oblíbený nástroj pro datovou analýzu.\n",
    "  * Pomáhá usnadnit práci s tabulkovými daty.\n",
    "  * http://pandas.pydata.org/\n",
    "\n",
    "### scikit-learn (sklearn)\n",
    "  * Soubor nástrojů datové vědy psaný v Pythonu.\n",
    "  * Staví na NumPy, [SciPy](https://www.scipy.org/) a matplotlib\n",
    "  * http://scikit-learn.org/stable/\n",
    "  \n",
    "### matplotlib\n",
    "  * Základní knihovna pro vykreslování grafů.\n",
    "  * https://matplotlib.org/\n",
    "\n",
    "### seaborn\n",
    "  * Nástroj pro vizualizaci dat, založený na matplotlib.\n",
    "  * https://seaborn.pydata.org/"
   ]
  },
  {
   "cell_type": "markdown",
   "metadata": {},
   "source": [
    "## Explorace a validace dat, čištění\n",
    "\n",
    "Let's show data exploration methods on [titanic dataset](https://www.kaggle.com/c/titanic/data) from [Kaggle](https://www.kaggle.com/). The dataset is devoted to predict survival (binary classification task)."
   ]
  },
  {
   "cell_type": "markdown",
   "metadata": {},
   "source": [
    "## Základy práce s kinhovnou Pandas\n",
    "\n",
    "![img/dataframe.png](img/dataframe.png)\n",
    "*zdroj obrázku: [https://www.geeksforgeeks.org/creating-a-pandas-dataframe/](https://www.geeksforgeeks.org/creating-a-pandas-dataframe/)*"
   ]
  },
  {
   "cell_type": "markdown",
   "metadata": {},
   "source": [
    "### Načítání dat\n",
    "- Načítání dat z csv souborů do pandas typu DataFrame.\n",
    "- Zkratka CSV znamená **comma** separated values.\n",
    "    - Co asi může znamenat TSV/SSV? Jak je otevřít? "
   ]
  },
  {
   "cell_type": "code",
   "execution_count": null,
   "metadata": {
    "ExecuteTime": {
     "end_time": "2020-09-28T21:14:48.137051Z",
     "start_time": "2020-09-28T21:14:47.648561Z"
    }
   },
   "outputs": [],
   "source": [
    "import pandas as pd\n",
    "import numpy as np"
   ]
  },
  {
   "cell_type": "code",
   "execution_count": null,
   "metadata": {
    "ExecuteTime": {
     "end_time": "2020-09-28T21:16:23.158616Z",
     "start_time": "2020-09-28T21:16:23.156056Z"
    }
   },
   "outputs": [],
   "source": [
    "# Načtěte data z CSV souboru data1.csv\n",
    "df = ..."
   ]
  },
  {
   "cell_type": "code",
   "execution_count": null,
   "metadata": {
    "ExecuteTime": {
     "end_time": "2020-09-28T21:16:28.361491Z",
     "start_time": "2020-09-28T21:16:28.358976Z"
    }
   },
   "outputs": [],
   "source": [
    "# Zkusíme si načást i data z CSV souboru data2.csv\n",
    "df2 = ..."
   ]
  },
  {
   "cell_type": "markdown",
   "metadata": {},
   "source": [
    "### Základní informace o datasetu"
   ]
  },
  {
   "cell_type": "code",
   "execution_count": null,
   "metadata": {
    "ExecuteTime": {
     "end_time": "2020-09-28T21:16:35.815574Z",
     "start_time": "2020-09-28T21:16:35.812948Z"
    }
   },
   "outputs": [],
   "source": [
    "# Základní informace o dataframu (typy sloupců, počty hodnot)\n"
   ]
  },
  {
   "cell_type": "code",
   "execution_count": null,
   "metadata": {
    "ExecuteTime": {
     "end_time": "2020-09-28T21:16:37.810220Z",
     "start_time": "2020-09-28T21:16:37.807970Z"
    }
   },
   "outputs": [],
   "source": [
    "# Zobrazit prvních/posledních k hodnot\n"
   ]
  },
  {
   "cell_type": "code",
   "execution_count": null,
   "metadata": {
    "ExecuteTime": {
     "end_time": "2020-09-28T21:16:39.904461Z",
     "start_time": "2020-09-28T21:16:39.901969Z"
    }
   },
   "outputs": [],
   "source": [
    "# Získat základní statistiky o datech (count, mean, std, min, max,..)\n"
   ]
  },
  {
   "cell_type": "markdown",
   "metadata": {},
   "source": [
    "### Jak detekovat chybějící hodnoty v datasetu?\n",
    "Data občas mohou v datasetu chybět. Co s tím?\n",
    "\n",
    "By-default považuje Pandas za chybející hodnoty `None` nebo `numpy.NaN`. Ne tedy prázdný string `''` nebo `np.inf`."
   ]
  },
  {
   "cell_type": "code",
   "execution_count": null,
   "metadata": {
    "ExecuteTime": {
     "end_time": "2020-09-28T21:16:46.417136Z",
     "start_time": "2020-09-28T21:16:46.414727Z"
    }
   },
   "outputs": [],
   "source": [
    "# Vybereme pouze řádky (ne)obsahující missing values\n"
   ]
  },
  {
   "cell_type": "markdown",
   "metadata": {
    "ExecuteTime": {
     "end_time": "2020-09-28T11:31:27.057523Z",
     "start_time": "2020-09-28T11:31:27.055030Z"
    }
   },
   "source": [
    "### Základy přístupu k datům \n",
    "Základní objekt v Pandas je `pd.Series`. `pd.DataFrame` je v podstatě kontejner na několik `pd.Series`.\n",
    "- Všechny pandas objekty jsou 'value-mutable' ale ne vždy 'size-mutable'\n",
    "    - length of a Series cannot be changed\n",
    "    - but columns can be inserted into a DataFrame\n",
    "- DataFrame obsahuje popsané osy (index řádku / název sloupce)"
   ]
  },
  {
   "cell_type": "code",
   "execution_count": null,
   "metadata": {
    "ExecuteTime": {
     "end_time": "2020-09-28T21:16:51.767497Z",
     "start_time": "2020-09-28T21:16:51.764619Z"
    }
   },
   "outputs": [],
   "source": [
    "# Názvy sloupců v DataFrame\n"
   ]
  },
  {
   "cell_type": "code",
   "execution_count": null,
   "metadata": {
    "ExecuteTime": {
     "end_time": "2020-09-28T21:16:54.355795Z",
     "start_time": "2020-09-28T21:16:54.353622Z"
    }
   },
   "outputs": [],
   "source": [
    "# Názvy řádků v DataFrame\n"
   ]
  },
  {
   "cell_type": "markdown",
   "metadata": {},
   "source": [
    "#### Přístup ke sloupcům v DataFrame\n",
    "- Přístup možný 2 způsoby:\n",
    "    - `df[\"Age\"]`\n",
    "    - `df.Age`\n",
    "- Po výběru jednoho sloupce již pracujeme s `pd.Series`!\n",
    "- Pro tvorbu nového sloupce je nutné použít hranaté závorky\n",
    "- Attribute access občas nejde použít (speciální název sloupce, mezery,..)"
   ]
  },
  {
   "cell_type": "markdown",
   "metadata": {},
   "source": [
    "### Základy přístupu k datům "
   ]
  },
  {
   "cell_type": "code",
   "execution_count": null,
   "metadata": {
    "ExecuteTime": {
     "end_time": "2020-09-28T21:16:58.958590Z",
     "start_time": "2020-09-28T21:16:58.956118Z"
    }
   },
   "outputs": [],
   "source": [
    "# Vybereme sloupec Age (výsledkem je Series). Na ní vybereme prvních 10 hodnot.\n"
   ]
  },
  {
   "cell_type": "code",
   "execution_count": null,
   "metadata": {
    "ExecuteTime": {
     "end_time": "2020-09-28T21:17:01.399105Z",
     "start_time": "2020-09-28T21:17:01.396515Z"
    }
   },
   "outputs": [],
   "source": [
    "# Vybereme sloupce \"Age\" a \"Sex\". Výsledekem je DataFrame!\n"
   ]
  },
  {
   "cell_type": "code",
   "execution_count": null,
   "metadata": {
    "ExecuteTime": {
     "end_time": "2020-09-28T21:17:03.965832Z",
     "start_time": "2020-09-28T21:17:03.963700Z"
    }
   },
   "outputs": [],
   "source": [
    "# Jak vybrat 3 a 4 řádek dataframe?\n"
   ]
  },
  {
   "cell_type": "markdown",
   "metadata": {},
   "source": [
    "### Filtrování dat\n",
    "- Data filtrujeme aplikací listu booleans na Series/DataFrame\n",
    "- Na sloupce můžeme využívat booleovské operátory"
   ]
  },
  {
   "cell_type": "code",
   "execution_count": null,
   "metadata": {
    "ExecuteTime": {
     "end_time": "2020-09-28T21:17:07.902608Z",
     "start_time": "2020-09-28T21:17:07.899941Z"
    }
   },
   "outputs": [],
   "source": [
    "# Kolik lidí bylo starších 30 let?\n"
   ]
  },
  {
   "cell_type": "code",
   "execution_count": null,
   "metadata": {
    "ExecuteTime": {
     "end_time": "2020-09-28T21:17:10.036166Z",
     "start_time": "2020-09-28T21:17:10.033860Z"
    }
   },
   "outputs": [],
   "source": [
    "# Kdo bydlel v kabině D33?\n"
   ]
  },
  {
   "cell_type": "code",
   "execution_count": null,
   "metadata": {
    "ExecuteTime": {
     "end_time": "2020-09-28T21:17:13.502994Z",
     "start_time": "2020-09-28T21:17:13.500338Z"
    }
   },
   "outputs": [],
   "source": [
    "# Jak nalézt všechny jejichž jméno začíná na Goodwin?\n"
   ]
  },
  {
   "cell_type": "markdown",
   "metadata": {},
   "source": [
    "## Úloha 01: Zřetězení dat\n",
    "\n",
    "  - Připojte data2.csv za data1.csv následujícím způsobem:\n",
    "      - Data (sloupce), která nejsou v data1.csv jsou v data2.csv vynechána.\n",
    "      - Spočítejte věk pomocí sloupce BirthYear (rok narození) v data2.csv a uložte jej do sloupce Age.\n",
    "      - PasangerId musí být unikátní. Nastavíme ho jako nový index."
   ]
  },
  {
   "cell_type": "code",
   "execution_count": null,
   "metadata": {
    "ExecuteTime": {
     "end_time": "2020-09-28T21:17:20.653520Z",
     "start_time": "2020-09-28T21:17:20.650942Z"
    }
   },
   "outputs": [],
   "source": [
    "# Načteme soubor data2.csv a zkontrolujeme, že sedí názvy sloupců a zbytečné odstraníme\n",
    "df2 = ..."
   ]
  },
  {
   "cell_type": "code",
   "execution_count": null,
   "metadata": {
    "ExecuteTime": {
     "end_time": "2020-09-28T21:17:22.643516Z",
     "start_time": "2020-09-28T21:17:22.641156Z"
    }
   },
   "outputs": [],
   "source": [
    "# V nově načteném df spočítáme věk cestujících\n"
   ]
  },
  {
   "cell_type": "code",
   "execution_count": null,
   "metadata": {
    "ExecuteTime": {
     "end_time": "2020-09-28T21:17:24.628170Z",
     "start_time": "2020-09-28T21:17:24.625645Z"
    }
   },
   "outputs": [],
   "source": [
    "# Odstraníme zbytečné sloupce\n"
   ]
  },
  {
   "cell_type": "code",
   "execution_count": null,
   "metadata": {
    "ExecuteTime": {
     "end_time": "2020-09-28T21:17:34.586959Z",
     "start_time": "2020-09-28T21:17:34.584537Z"
    }
   },
   "outputs": [],
   "source": [
    "# Spojíme soubory data1.csv a data2.csv (existuje více způsobů). Všimněte si, že index nyní neodpovídá!\n"
   ]
  },
  {
   "cell_type": "code",
   "execution_count": null,
   "metadata": {
    "ExecuteTime": {
     "end_time": "2020-09-28T21:17:37.268679Z",
     "start_time": "2020-09-28T21:17:37.266258Z"
    }
   },
   "outputs": [],
   "source": [
    "# Dává smysl, abychom použili PassengerID jako nový index. Ovšem obsahuje neunikátní hodnoty! Let's fix that.\n"
   ]
  },
  {
   "cell_type": "code",
   "execution_count": null,
   "metadata": {
    "ExecuteTime": {
     "end_time": "2020-09-28T21:17:39.604926Z",
     "start_time": "2020-09-28T21:17:39.602399Z"
    }
   },
   "outputs": [],
   "source": [
    "# Nastavíme sloupec PassengerID jako nový index\n"
   ]
  },
  {
   "cell_type": "markdown",
   "metadata": {},
   "source": [
    "## Vizualizace pomocí pandas a seaborn\n",
    "* Importujeme knihovny"
   ]
  },
  {
   "cell_type": "code",
   "execution_count": null,
   "metadata": {
    "ExecuteTime": {
     "end_time": "2020-09-28T21:18:04.652467Z",
     "start_time": "2020-09-28T21:18:04.642752Z"
    }
   },
   "outputs": [],
   "source": [
    "import matplotlib\n",
    "import matplotlib.pyplot as plt\n",
    "\n",
    "# Matplotlib umožňuje změnit styl na jiný, než defaultní\n",
    "matplotlib.style.use('ggplot')\n",
    "\n",
    "# Bez násl. řádku někdy nefunguje vykreslování grafů v Jupyter noteboocích\n",
    "%matplotlib inline "
   ]
  },
  {
   "cell_type": "markdown",
   "metadata": {},
   "source": [
    "### Základní chování grafů"
   ]
  },
  {
   "cell_type": "code",
   "execution_count": null,
   "metadata": {
    "ExecuteTime": {
     "end_time": "2020-09-28T21:18:09.300096Z",
     "start_time": "2020-09-28T21:18:09.297335Z"
    }
   },
   "outputs": [],
   "source": [
    "# Co se stane když pustíme graf bez žádných parametrů?\n"
   ]
  },
  {
   "cell_type": "markdown",
   "metadata": {},
   "source": [
    "### Běžně používané typy grafů\n",
    "* Ukážeme si běžně používané typy grafů na věku pasažérů"
   ]
  },
  {
   "cell_type": "code",
   "execution_count": null,
   "metadata": {
    "ExecuteTime": {
     "end_time": "2020-09-28T21:18:14.971513Z",
     "start_time": "2020-09-28T21:18:14.968825Z"
    }
   },
   "outputs": [],
   "source": [
    "# Line chart\n"
   ]
  },
  {
   "cell_type": "code",
   "execution_count": null,
   "metadata": {
    "ExecuteTime": {
     "end_time": "2020-09-28T21:18:17.955490Z",
     "start_time": "2020-09-28T21:18:17.952959Z"
    }
   },
   "outputs": [],
   "source": [
    "# Histogram. Správný graf pro tento usecase.\n"
   ]
  },
  {
   "cell_type": "code",
   "execution_count": null,
   "metadata": {
    "ExecuteTime": {
     "end_time": "2020-09-28T21:18:21.211645Z",
     "start_time": "2020-09-28T21:18:21.209039Z"
    }
   },
   "outputs": [],
   "source": [
    "# Boxplot je taktéž vynikající graf\n"
   ]
  },
  {
   "cell_type": "markdown",
   "metadata": {},
   "source": [
    "### Vizualizace závislosti na přežití\n",
    "\n",
    "* Nejprve rozdělíme na dvě části - `survived` a `not_survived`"
   ]
  },
  {
   "cell_type": "code",
   "execution_count": null,
   "metadata": {
    "ExecuteTime": {
     "end_time": "2020-09-28T21:18:26.851696Z",
     "start_time": "2020-09-28T21:18:26.848883Z"
    }
   },
   "outputs": [],
   "source": [
    "# Rozdělíme na survived a not_survived\n"
   ]
  },
  {
   "cell_type": "markdown",
   "metadata": {},
   "source": [
    "* Podíváme se na závislost věku a třídy na přežití\n",
    "    * Vzhledem k tomu, že se jedná o dvě proměné je potřeba dvourozměrný graf\n",
    "    * Ideální bude scatter plot (ještě lepší by byl boxplot!)"
   ]
  },
  {
   "cell_type": "code",
   "execution_count": null,
   "metadata": {
    "ExecuteTime": {
     "end_time": "2020-09-28T21:18:33.282964Z",
     "start_time": "2020-09-28T21:18:33.280558Z"
    }
   },
   "outputs": [],
   "source": [
    "# df.boxplot nevyžaduje ani groupby\n"
   ]
  },
  {
   "cell_type": "code",
   "execution_count": null,
   "metadata": {
    "ExecuteTime": {
     "end_time": "2020-09-28T21:18:56.930667Z",
     "start_time": "2020-09-28T21:18:56.928372Z"
    }
   },
   "outputs": [],
   "source": [
    "# Vykreslíme do dvou scatter grafů\n"
   ]
  },
  {
   "cell_type": "code",
   "execution_count": null,
   "metadata": {
    "ExecuteTime": {
     "end_time": "2020-09-28T21:19:00.827891Z",
     "start_time": "2020-09-28T21:19:00.824968Z"
    }
   },
   "outputs": [],
   "source": [
    "# Lze vykreslit i do jednoho grafu (nutné předat axis objekt)\n"
   ]
  },
  {
   "cell_type": "markdown",
   "metadata": {},
   "source": [
    "### Zobrazování subgrafů\n",
    "\n",
    "* Co když chceme mí více grafů vedle sebe nebo i pod sebou?\n",
    "* Dvě hlavní možnosti\n",
    "    1. Metoda `plt.subplot`\n",
    "    2. Metoda `plt.subplots`"
   ]
  },
  {
   "cell_type": "code",
   "execution_count": null,
   "metadata": {
    "ExecuteTime": {
     "end_time": "2020-09-28T21:19:05.577061Z",
     "start_time": "2020-09-28T21:19:04.702985Z"
    }
   },
   "outputs": [],
   "source": [
    "# Nastavíme velikost grafu (příliš malý graf je nečitelný)\n",
    "plt.figure(figsize=(9,12)) # velikost figsize se určuje v palcích (angl. inches)\n",
    "\n",
    "# První použijeme metodu plt.subplot\n",
    "plt.subplot(321) # tři řádky a dva sloupce, přiřaď následující graf do prvního slotu\n",
    "survived['Age'].plot.hist(color='Green')\n",
    "plt.subplot(322)\n",
    "not_survived['Age'].plot.hist(color='Black')\n",
    "plt.subplot(323)\n",
    "survived['Pclass'].plot.hist(color='Green')\n",
    "plt.subplot(324)\n",
    "not_survived['Pclass'].plot.hist(color='Black')\n",
    "plt.subplot(325)\n",
    "survived['Sex'].apply(lambda x: 1 if x == 'female' else 0).plot.hist(color='Green')\n",
    "plt.subplot(326)\n",
    "not_survived['Sex'].apply(lambda x: 1 if x == 'female' else 0).plot.hist(color='Black')\n",
    "\n",
    "plt.show()"
   ]
  },
  {
   "cell_type": "code",
   "execution_count": null,
   "metadata": {
    "ExecuteTime": {
     "end_time": "2020-09-28T21:19:06.436600Z",
     "start_time": "2020-09-28T21:19:05.579401Z"
    }
   },
   "outputs": [],
   "source": [
    "# Druhá možnost je metoda plt.subplots\n",
    "fig, ax = plt.subplots(3, 2, figsize=(9,12))\n",
    "\n",
    "survived['Age'].plot.hist(color='Green', ax=ax[0,0])\n",
    "not_survived['Age'].plot.hist(color='Black', ax=ax[0,1])\n",
    "\n",
    "survived['Pclass'].plot.hist(color='Green', ax=ax[1,0])\n",
    "not_survived['Pclass'].plot.hist(color='Black', ax=ax[1,1])\n",
    "\n",
    "survived['Sex'].apply(lambda x: 1 if x == 'female' else 0).plot.hist(color='Green', ax=ax[2,0])\n",
    "not_survived['Sex'].apply(lambda x: 1 if x == 'female' else 0).plot.hist(color='Black', ax=ax[2,1])\n",
    "\n",
    "plt.show()"
   ]
  },
  {
   "cell_type": "markdown",
   "metadata": {},
   "source": [
    "## Seaborne\n",
    "* Využívá matplotlib\n",
    "* Lze v ní snadno vytvořit grafy, které není snadné v matplotlibu napsat rychle\n",
    "### Jak zjistit jaké mají příznaky vztahy mezi sebou?\n",
    "* Chceme zjistit jak moc navzájem korelují jednotlivé příznaky\n",
    "* Ideální graf na toto je heatmapa korelační matice"
   ]
  },
  {
   "cell_type": "code",
   "execution_count": null,
   "metadata": {
    "ExecuteTime": {
     "end_time": "2020-09-28T21:19:10.950988Z",
     "start_time": "2020-09-28T21:19:10.948508Z"
    }
   },
   "outputs": [],
   "source": [
    "# Heatmapa umí pracovat jen s číselnými hodnotami, je tedy nutné převést text na číselnou hodnotu\n"
   ]
  },
  {
   "cell_type": "code",
   "execution_count": null,
   "metadata": {
    "ExecuteTime": {
     "end_time": "2020-09-28T21:19:24.721077Z",
     "start_time": "2020-09-28T21:19:24.718325Z"
    }
   },
   "outputs": [],
   "source": [
    "# Vytvoříme korelační matici\n"
   ]
  },
  {
   "cell_type": "code",
   "execution_count": null,
   "metadata": {
    "ExecuteTime": {
     "end_time": "2020-09-28T21:19:33.073108Z",
     "start_time": "2020-09-28T21:19:33.070377Z"
    }
   },
   "outputs": [],
   "source": [
    "import seaborn as sns\n",
    "\n",
    "# Zobrazení heatmapy\n"
   ]
  },
  {
   "cell_type": "code",
   "execution_count": null,
   "metadata": {
    "ExecuteTime": {
     "end_time": "2020-09-28T21:20:30.958778Z",
     "start_time": "2020-09-28T21:20:30.956445Z"
    }
   },
   "outputs": [],
   "source": [
    "# Stripplot podle x=Pclass a y=Age, hue=Survived, data=df\n"
   ]
  },
  {
   "cell_type": "markdown",
   "metadata": {},
   "source": [
    "## Úloha 02: vytvořte bodový graf (scatter plot) pro všechny dvojice příznaků\n",
    "\n",
    "  - K vykreslení všech (smysluplných) dvojic příznaků použijte metodu sns.pairplot, podobným způsobem jako metodu níže."
   ]
  },
  {
   "cell_type": "code",
   "execution_count": null,
   "metadata": {
    "ExecuteTime": {
     "end_time": "2020-09-28T21:20:40.694697Z",
     "start_time": "2020-09-28T21:20:40.692419Z"
    }
   },
   "outputs": [],
   "source": [
    "# Použije Seaborn pairplot s tím, že nás zajímá přežití a chceme vidět histogramy na diagonále\n"
   ]
  },
  {
   "cell_type": "markdown",
   "metadata": {},
   "source": [
    "## Stahování dat z webu pomocí Pythonu a pandas (1. úkol)\n",
    "          \n",
    "### Tipy pro scrapping s Pythonem:\n",
    "   - K získání HTML zdrojáku stránky s `url` použijte `import requests`: \n",
    "      - `r = requests.get(url)`\n",
    "      - `html = r.text`\n",
    "   - Metoda `pandas.read_html(r.text)` uloží všechny tabulky `<table>` jako seznam pandas DataFrames:\n",
    "      - `list_of_data_frames = pd.read_html(html,flavor='html5lib')`\n",
    "   - Pro HTML parsování lze použít `from bs4 import BeautifulSoup`."
   ]
  },
  {
   "cell_type": "code",
   "execution_count": null,
   "metadata": {
    "ExecuteTime": {
     "end_time": "2020-09-28T21:15:01.310512Z",
     "start_time": "2020-09-28T21:14:47.727Z"
    }
   },
   "outputs": [],
   "source": [
    "import requests"
   ]
  },
  {
   "cell_type": "code",
   "execution_count": null,
   "metadata": {
    "ExecuteTime": {
     "end_time": "2020-09-28T21:15:01.311911Z",
     "start_time": "2020-09-28T21:14:47.729Z"
    }
   },
   "outputs": [],
   "source": [
    "# příklad pro statutární město Kladno, výsledky voleb pro rok 2010\n",
    "url = 'https://www.volby.cz/pls/kv2010/kv1111?xjazyk=CZ&xid=0&xdz=3&xnumnuts=2103&xobec=532053&xstat=0&xvyber=0'\n",
    "dfs = pd.read_html(url,flavor='html5lib')"
   ]
  },
  {
   "cell_type": "markdown",
   "metadata": {},
   "source": [
    "### Pro zajímavost (z předloňského roku): Příklad jednoduchého stažení dat z webu pomocí POST formuláře.\n",
    "\n",
    "Úkolem je stáhnout všechna data z http://kap.ujak.cz/index.php a uložit je ve formátu pandas DataFrame.\n",
    "#### První ukážeme variantu s pd.read_html"
   ]
  },
  {
   "cell_type": "code",
   "execution_count": null,
   "metadata": {
    "ExecuteTime": {
     "end_time": "2020-09-28T21:15:01.313849Z",
     "start_time": "2020-09-28T21:14:47.730Z"
    }
   },
   "outputs": [],
   "source": [
    "# url s formulářem\n",
    "url = 'https://kap.ujak.cz/index.php'\n",
    "# nastavení POST proměnných simulující odeslání formuláře\n",
    "data = {\n",
    "    'prace' : 'BP', # DP = diplomka, DR = disertace, RI = rigorozní\n",
    "    'nazev' : '%%%', # alespoň tři písmena z názvu hledané práce\n",
    "    'pocet' : '0',\n",
    "    'klic' : '', # alespoň tři písmena z klíčových slov\n",
    "    'kl' : 'c', # c = částečně odpovídá, n = plně odpovídá\n",
    "    'hledat' : 'Vyhledat'\n",
    "}\n",
    "\n",
    "data_all = pd.DataFrame()\n",
    "for prace in ['BP', 'DP']:\n",
    "    data['prace'] = prace\n",
    "    r = requests.post(url, data=data)\n",
    "    r.encoding='cp1250'\n",
    "    ldf = pd.read_html(r.text,flavor='html5lib', header=0)\n",
    "    df_ujak = ldf[0]\n",
    "    strana = 30\n",
    "    if data_all.shape[0] == 0:\n",
    "        data_all = df.copy()\n",
    "    else:\n",
    "        data_all = pd.concat([data_all,df], ignore_index=True)\n",
    "    while df.shape[0] > 0:\n",
    "        if data_all.shape[0] > 200: # just to prevent from downloading all data\n",
    "            break\n",
    "        r = requests.post(url.format(strana), data)\n",
    "        r.encoding='cp1250'\n",
    "        ldf = pd.read_html(r.text,flavor='html5lib', header=0)\n",
    "        df_ujak = ldf[0]\n",
    "        strana = strana + 30\n",
    "        data_all = pd.concat([data_all,df_ujak], ignore_index=True)"
   ]
  },
  {
   "cell_type": "code",
   "execution_count": null,
   "metadata": {
    "ExecuteTime": {
     "end_time": "2020-09-28T21:15:01.316061Z",
     "start_time": "2020-09-28T21:14:47.732Z"
    }
   },
   "outputs": [],
   "source": [
    "data_all"
   ]
  },
  {
   "cell_type": "markdown",
   "metadata": {},
   "source": [
    "#### Lze použít i requests a bs4\n",
    "* Pokud se podíváme na původní stránku, můžeme si všimnout že název práce zároveň slouží jako odkaz na práci samotnou.\n",
    "* Tento odkaz ale `pandas.read_html` nedokázalo extrahovat. \n",
    "* Zkusíme jej tedy extrahovat pomocí Beautiful Soup z bs4."
   ]
  },
  {
   "cell_type": "code",
   "execution_count": null,
   "metadata": {
    "ExecuteTime": {
     "end_time": "2020-09-28T21:15:01.317628Z",
     "start_time": "2020-09-28T21:14:47.733Z"
    }
   },
   "outputs": [],
   "source": [
    "from bs4 import BeautifulSoup"
   ]
  },
  {
   "cell_type": "code",
   "execution_count": null,
   "metadata": {
    "ExecuteTime": {
     "end_time": "2020-09-28T21:15:01.318966Z",
     "start_time": "2020-09-28T21:14:47.736Z"
    }
   },
   "outputs": [],
   "source": [
    "# url s formulářem\n",
    "url = 'https://kap.ujak.cz/index.php'\n",
    "# nastavení POST proměnných simulující odeslání formuláře\n",
    "data = {\n",
    "    'prace' : 'BP', # DP = diplomka, DR = disertace, RI = rigorozní\n",
    "    'nazev' : '%%%', # alespoň tři písmena z názvu hledané práce\n",
    "    'pocet' : '0',\n",
    "    'klic' : '', # alespoň tři písmena z klíčových slov\n",
    "    'kl' : 'c', # c = částečně odpovídá, n = plně odpovídá\n",
    "    'hledat' : 'Vyhledat'\n",
    "}\n",
    "\n",
    "links = {'BP': [],\n",
    "         'DP': []}\n",
    "\n",
    "for prace in ['BP', 'DP']:\n",
    "    data['prace'] = prace\n",
    "    r = requests.post(url, data=data)\n",
    "    r.encoding='cp1250'\n",
    "\n",
    "    soup = BeautifulSoup(r.text, 'html.parser')  # Použije html parser na rozparsování stránky\n",
    "    for line in soup.table.find_all('tr'):  # Z tabulky dostaneme všechny řádky\n",
    "        links[prace].append(line.find('a').get('href'))  # Z každé řádky dostaneme odkaz na práci\n",
    "    \n",
    "    while len(links[prace]) > 0:  # Zpracování následujících stránek\n",
    "        if len(links[prace]) > 200: # just to prevent from downloading all data\n",
    "            break\n",
    "        r = requests.post(url.format(strana), data)\n",
    "        r.encoding='cp1250'\n",
    "        soup = BeautifulSoup(r.text, 'html.parser')\n",
    "        for line in soup.table.find_all('tr'):\n",
    "            links[prace].append(line.find('a').get('href'))"
   ]
  },
  {
   "cell_type": "code",
   "execution_count": null,
   "metadata": {
    "ExecuteTime": {
     "end_time": "2020-09-28T21:15:01.320180Z",
     "start_time": "2020-09-28T21:14:47.737Z"
    }
   },
   "outputs": [],
   "source": [
    "links_to_thesis = pd.DataFrame(links)\n",
    "links_to_thesis"
   ]
  },
  {
   "cell_type": "markdown",
   "metadata": {},
   "source": [
    "#### Další možností je použít přímo knihovnu pro scrapování\n",
    "* Ukážeme si knihovnu `scrapy`\n",
    "* Ve složce je soubor s názvem `ujak_crawler.py`\n",
    "    * Tento script stáhne data o pracích i s linky na ně\n",
    "    * Bohužel se špatně pouští v Jupyter Notebooku a tak jí pustíme přes shell"
   ]
  },
  {
   "cell_type": "code",
   "execution_count": null,
   "metadata": {
    "ExecuteTime": {
     "end_time": "2020-09-28T21:15:01.321726Z",
     "start_time": "2020-09-28T21:14:47.738Z"
    },
    "jupyter": {
     "outputs_hidden": true
    }
   },
   "outputs": [],
   "source": [
    "!scrapy runspider crawler/ujak_crawler.py -o crawler/crawled_data.csv"
   ]
  },
  {
   "cell_type": "markdown",
   "metadata": {},
   "source": [
    "### Pro zajímavost se můžeme podívat kolik prací se stejným názvem bylo na UJAK od roku 2000\n",
    "* Tohoto se dá snadno docílit přes `groupby`"
   ]
  },
  {
   "cell_type": "code",
   "execution_count": null,
   "metadata": {
    "ExecuteTime": {
     "end_time": "2020-09-28T21:21:06.147040Z",
     "start_time": "2020-09-28T21:21:06.144364Z"
    }
   },
   "outputs": [],
   "source": [
    "# Načteme data z crawler/ujak.csv\n"
   ]
  },
  {
   "cell_type": "code",
   "execution_count": null,
   "metadata": {
    "ExecuteTime": {
     "end_time": "2020-09-28T21:21:55.307865Z",
     "start_time": "2020-09-28T21:21:55.305281Z"
    }
   },
   "outputs": [],
   "source": [
    "# Zjistíme počty prací se stejným názvem starších než v roce 2000 (filter, groupby, agregační operace)\n"
   ]
  }
 ],
 "metadata": {
  "kernelspec": {
   "display_name": "Python 3",
   "language": "python",
   "name": "python3"
  },
  "language_info": {
   "codemirror_mode": {
    "name": "ipython",
    "version": 3
   },
   "file_extension": ".py",
   "mimetype": "text/x-python",
   "name": "python",
   "nbconvert_exporter": "python",
   "pygments_lexer": "ipython3",
   "version": "3.8.5"
  }
 },
 "nbformat": 4,
 "nbformat_minor": 4
}
